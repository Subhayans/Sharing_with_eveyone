{
 "cells": [
  {
   "cell_type": "markdown",
   "metadata": {},
   "source": [
    "## Grabbing data from webpages using a built-in method in Pandas library to scrape tabular data from html pages called read_html()"
   ]
  },
  {
   "cell_type": "code",
   "execution_count": 1,
   "metadata": {},
   "outputs": [
    {
     "name": "stdout",
     "output_type": "stream",
     "text": [
      "    Rank              State Nominal (billion $) Nominal (billion $).1  \\\n",
      "0   Rank              State                 GDP               Country   \n",
      "1      1        Maharashtra             288.895         Hong Kong SAR   \n",
      "2      2      Uttar Pradesh             168.837                Kuwait   \n",
      "3      3         Tamil Nadu             167.172                Kuwait   \n",
      "4      4            Gujarat             149.833               Hungary   \n",
      "5      5        West Bengal             138.272               Hungary   \n",
      "6      6          Karnataka             114.043               Morocco   \n",
      "7      7          Rajasthan             101.296               Ecuador   \n",
      "8      8     Andhra Pradesh              90.840       Slovak Republic   \n",
      "9      9     Madhya Pradesh              85.076                  Oman   \n",
      "10    10              Delhi              79.174                  Oman   \n",
      "11    11             Kerala              77.551                  Oman   \n",
      "12    12          Telangana              76.665               Belarus   \n",
      "13    13            Haryana              76.110               Belarus   \n",
      "14    14              Bihar              67.254    Dominican Republic   \n",
      "15    15             Punjab              62.047            Luxembourg   \n",
      "16    16             Odisha              53.421              Ethiopia   \n",
      "17    17       Chhattisgarh              36.337                Jordan   \n",
      "18    18          Jharkhand              33.811               Bahrain   \n",
      "19    19              Assam              31.206              Cameroon   \n",
      "20    20        Uttarakhand              24.051                Cyprus   \n",
      "21    21    Jammu & Kashmir              17.088                 Gabon   \n",
      "22    22   Himachal Pradesh              16.162      Papua New Guinea   \n",
      "23    23                Goa               9.569            Tajikistan   \n",
      "24    24         Chandigarh               5.690              Suriname   \n",
      "25    25            Tripura               5.247              Suriname   \n",
      "26    26          Meghalaya               4.290                Malawi   \n",
      "27    27         Puducherry               4.125                  Fiji   \n",
      "28    28           Nagaland               3.473             Swaziland   \n",
      "29    29            Manipur               2.803              Maldives   \n",
      "30    30  Arunachal Pradesh               2.651              Maldives   \n",
      "31    31             Sikkim               2.422               Lesotho   \n",
      "32    32            Mizoram               2.015               Liberia   \n",
      "33    33    A. & N. Islands               1.204   Antigua and Barbuda   \n",
      "34   NaN              India            2049.501                   NaN   \n",
      "\n",
      "   Nominal (billion $).2 PPP (billion Int. $) PPP (billion Int. $).1  \\\n",
      "0                   Rank                  GDP                Country   \n",
      "1                     39             1039.697                Nigeria   \n",
      "2                     59              607.624   United Arab Emirates   \n",
      "3                     59              601.632   United Arab Emirates   \n",
      "4                     59              539.232              Venezuela   \n",
      "5                     59              497.624                Vietnam   \n",
      "6                     62              410.428                  Chile   \n",
      "7                     63              364.551                Ukraine   \n",
      "8                     65              326.920                  Qatar   \n",
      "9                     65              306.176         Czech Republic   \n",
      "10                    65              284.939                 Greece   \n",
      "11                    66              279.098               Portugal   \n",
      "12                    66              275.906               Portugal   \n",
      "13                    67              273.911                 Israel   \n",
      "14                    70              242.039                Myanmar   \n",
      "15                    74              223.298                Finland   \n",
      "16                    79              192.257                Ecuador   \n",
      "17                    92              130.774                  Kenya   \n",
      "18                    97              121.682                Tunisia   \n",
      "19                    99              112.306                  Ghana   \n",
      "20                   105               86.555                Croatia   \n",
      "21                   111               61.498               Slovenia   \n",
      "22                   115               58.164               Paraguay   \n",
      "23                   137               34.438             Lao P.D.R.   \n",
      "24                   147               20.478                  Benin   \n",
      "25                   148               18.882                 Rwanda   \n",
      "26                   154               15.439             Mauritania   \n",
      "27                   156               14.844                 Guinea   \n",
      "28                   158               12.500           Sierra Leone   \n",
      "29                   161               10.088                   Togo   \n",
      "30                   161                9.540             Montenegro   \n",
      "31                   161                8.717              Swaziland   \n",
      "32                   164                7.252                   Fiji   \n",
      "33                   172                4.331               Barbados   \n",
      "34                     9             7375.898                    NaN   \n",
      "\n",
      "   PPP (billion Int. $).2  \n",
      "0                    Rank  \n",
      "1                      22  \n",
      "2                      32  \n",
      "3                      32  \n",
      "4                      34  \n",
      "5                      38  \n",
      "6                      43  \n",
      "7                      49  \n",
      "8                      50  \n",
      "9                      52  \n",
      "10                     52  \n",
      "11                     55  \n",
      "12                     55  \n",
      "13                     55  \n",
      "14                     59  \n",
      "15                     61  \n",
      "16                     63  \n",
      "17                     75  \n",
      "18                     78  \n",
      "19                     79  \n",
      "20                     84  \n",
      "21                     97  \n",
      "22                    101  \n",
      "23                    112  \n",
      "24                    135  \n",
      "25                    137  \n",
      "26                    144  \n",
      "27                    145  \n",
      "28                    149  \n",
      "29                    150  \n",
      "30                    150  \n",
      "31                    153  \n",
      "32                    157  \n",
      "33                    163  \n",
      "34                      3  \n"
     ]
    }
   ],
   "source": [
    "import pandas as pd\n",
    "url = 'https://statisticstimes.com/economy/comparing-indian-states-and-countries-by-gdp.php'\n",
    "table1 = pd.read_html(url, header=0)\n",
    "\n",
    "print(table1[0])"
   ]
  },
  {
   "cell_type": "code",
   "execution_count": 4,
   "metadata": {},
   "outputs": [
    {
     "name": "stdout",
     "output_type": "stream",
     "text": [
      "[{\"Rank\":\"Rank\",\"State\":\"State\",\"Nominal (billion $)\":\"GDP\",\"Nominal (billion $).1\":\"Country\",\"Nominal (billion $).2\":\"Rank\",\"PPP (billion Int. $)\":\"GDP\",\"PPP (billion Int. $).1\":\"Country\",\"PPP (billion Int. $).2\":\"Rank\"},{\"Rank\":\"1\",\"State\":\"Maharashtra\",\"Nominal (billion $)\":\"288.895\",\"Nominal (billion $).1\":\"Hong Kong SAR\",\"Nominal (billion $).2\":\"39\",\"PPP (billion Int. $)\":\"1039.697\",\"PPP (billion Int. $).1\":\"Nigeria\",\"PPP (billion Int. $).2\":\"22\"},{\"Rank\":\"2\",\"State\":\"Uttar Pradesh\",\"Nominal (billion $)\":\"168.837\",\"Nominal (billion $).1\":\"Kuwait\",\"Nominal (billion $).2\":\"59\",\"PPP (billion Int. $)\":\"607.624\",\"PPP (billion Int. $).1\":\"United Arab Emirates\",\"PPP (billion Int. $).2\":\"32\"},{\"Rank\":\"3\",\"State\":\"Tamil Nadu\",\"Nominal (billion $)\":\"167.172\",\"Nominal (billion $).1\":\"Kuwait\",\"Nominal (billion $).2\":\"59\",\"PPP (billion Int. $)\":\"601.632\",\"PPP (billion Int. $).1\":\"United Arab Emirates\",\"PPP (billion Int. $).2\":\"32\"},{\"Rank\":\"4\",\"State\":\"Gujarat\",\"Nominal (billion $)\":\"149.833\",\"Nominal (billion $).1\":\"Hungary\",\"Nominal (billion $).2\":\"59\",\"PPP (billion Int. $)\":\"539.232\",\"PPP (billion Int. $).1\":\"Venezuela\",\"PPP (billion Int. $).2\":\"34\"},{\"Rank\":\"5\",\"State\":\"West Bengal\",\"Nominal (billion $)\":\"138.272\",\"Nominal (billion $).1\":\"Hungary\",\"Nominal (billion $).2\":\"59\",\"PPP (billion Int. $)\":\"497.624\",\"PPP (billion Int. $).1\":\"Vietnam\",\"PPP (billion Int. $).2\":\"38\"},{\"Rank\":\"6\",\"State\":\"Karnataka\",\"Nominal (billion $)\":\"114.043\",\"Nominal (billion $).1\":\"Morocco\",\"Nominal (billion $).2\":\"62\",\"PPP (billion Int. $)\":\"410.428\",\"PPP (billion Int. $).1\":\"Chile\",\"PPP (billion Int. $).2\":\"43\"},{\"Rank\":\"7\",\"State\":\"Rajasthan\",\"Nominal (billion $)\":\"101.296\",\"Nominal (billion $).1\":\"Ecuador\",\"Nominal (billion $).2\":\"63\",\"PPP (billion Int. $)\":\"364.551\",\"PPP (billion Int. $).1\":\"Ukraine\",\"PPP (billion Int. $).2\":\"49\"},{\"Rank\":\"8\",\"State\":\"Andhra Pradesh\",\"Nominal (billion $)\":\"90.840\",\"Nominal (billion $).1\":\"Slovak Republic\",\"Nominal (billion $).2\":\"65\",\"PPP (billion Int. $)\":\"326.920\",\"PPP (billion Int. $).1\":\"Qatar\",\"PPP (billion Int. $).2\":\"50\"},{\"Rank\":\"9\",\"State\":\"Madhya Pradesh\",\"Nominal (billion $)\":\"85.076\",\"Nominal (billion $).1\":\"Oman\",\"Nominal (billion $).2\":\"65\",\"PPP (billion Int. $)\":\"306.176\",\"PPP (billion Int. $).1\":\"Czech Republic\",\"PPP (billion Int. $).2\":\"52\"},{\"Rank\":\"10\",\"State\":\"Delhi\",\"Nominal (billion $)\":\"79.174\",\"Nominal (billion $).1\":\"Oman\",\"Nominal (billion $).2\":\"65\",\"PPP (billion Int. $)\":\"284.939\",\"PPP (billion Int. $).1\":\"Greece\",\"PPP (billion Int. $).2\":\"52\"},{\"Rank\":\"11\",\"State\":\"Kerala\",\"Nominal (billion $)\":\"77.551\",\"Nominal (billion $).1\":\"Oman\",\"Nominal (billion $).2\":\"66\",\"PPP (billion Int. $)\":\"279.098\",\"PPP (billion Int. $).1\":\"Portugal\",\"PPP (billion Int. $).2\":\"55\"},{\"Rank\":\"12\",\"State\":\"Telangana\",\"Nominal (billion $)\":\"76.665\",\"Nominal (billion $).1\":\"Belarus\",\"Nominal (billion $).2\":\"66\",\"PPP (billion Int. $)\":\"275.906\",\"PPP (billion Int. $).1\":\"Portugal\",\"PPP (billion Int. $).2\":\"55\"},{\"Rank\":\"13\",\"State\":\"Haryana\",\"Nominal (billion $)\":\"76.110\",\"Nominal (billion $).1\":\"Belarus\",\"Nominal (billion $).2\":\"67\",\"PPP (billion Int. $)\":\"273.911\",\"PPP (billion Int. $).1\":\"Israel\",\"PPP (billion Int. $).2\":\"55\"},{\"Rank\":\"14\",\"State\":\"Bihar\",\"Nominal (billion $)\":\"67.254\",\"Nominal (billion $).1\":\"Dominican Republic\",\"Nominal (billion $).2\":\"70\",\"PPP (billion Int. $)\":\"242.039\",\"PPP (billion Int. $).1\":\"Myanmar\",\"PPP (billion Int. $).2\":\"59\"},{\"Rank\":\"15\",\"State\":\"Punjab\",\"Nominal (billion $)\":\"62.047\",\"Nominal (billion $).1\":\"Luxembourg\",\"Nominal (billion $).2\":\"74\",\"PPP (billion Int. $)\":\"223.298\",\"PPP (billion Int. $).1\":\"Finland\",\"PPP (billion Int. $).2\":\"61\"},{\"Rank\":\"16\",\"State\":\"Odisha\",\"Nominal (billion $)\":\"53.421\",\"Nominal (billion $).1\":\"Ethiopia\",\"Nominal (billion $).2\":\"79\",\"PPP (billion Int. $)\":\"192.257\",\"PPP (billion Int. $).1\":\"Ecuador\",\"PPP (billion Int. $).2\":\"63\"},{\"Rank\":\"17\",\"State\":\"Chhattisgarh\",\"Nominal (billion $)\":\"36.337\",\"Nominal (billion $).1\":\"Jordan\",\"Nominal (billion $).2\":\"92\",\"PPP (billion Int. $)\":\"130.774\",\"PPP (billion Int. $).1\":\"Kenya\",\"PPP (billion Int. $).2\":\"75\"},{\"Rank\":\"18\",\"State\":\"Jharkhand\",\"Nominal (billion $)\":\"33.811\",\"Nominal (billion $).1\":\"Bahrain\",\"Nominal (billion $).2\":\"97\",\"PPP (billion Int. $)\":\"121.682\",\"PPP (billion Int. $).1\":\"Tunisia\",\"PPP (billion Int. $).2\":\"78\"},{\"Rank\":\"19\",\"State\":\"Assam\",\"Nominal (billion $)\":\"31.206\",\"Nominal (billion $).1\":\"Cameroon\",\"Nominal (billion $).2\":\"99\",\"PPP (billion Int. $)\":\"112.306\",\"PPP (billion Int. $).1\":\"Ghana\",\"PPP (billion Int. $).2\":\"79\"},{\"Rank\":\"20\",\"State\":\"Uttarakhand\",\"Nominal (billion $)\":\"24.051\",\"Nominal (billion $).1\":\"Cyprus\",\"Nominal (billion $).2\":\"105\",\"PPP (billion Int. $)\":\"86.555\",\"PPP (billion Int. $).1\":\"Croatia\",\"PPP (billion Int. $).2\":\"84\"},{\"Rank\":\"21\",\"State\":\"Jammu & Kashmir\",\"Nominal (billion $)\":\"17.088\",\"Nominal (billion $).1\":\"Gabon\",\"Nominal (billion $).2\":\"111\",\"PPP (billion Int. $)\":\"61.498\",\"PPP (billion Int. $).1\":\"Slovenia\",\"PPP (billion Int. $).2\":\"97\"},{\"Rank\":\"22\",\"State\":\"Himachal Pradesh\",\"Nominal (billion $)\":\"16.162\",\"Nominal (billion $).1\":\"Papua New Guinea\",\"Nominal (billion $).2\":\"115\",\"PPP (billion Int. $)\":\"58.164\",\"PPP (billion Int. $).1\":\"Paraguay\",\"PPP (billion Int. $).2\":\"101\"},{\"Rank\":\"23\",\"State\":\"Goa\",\"Nominal (billion $)\":\"9.569\",\"Nominal (billion $).1\":\"Tajikistan\",\"Nominal (billion $).2\":\"137\",\"PPP (billion Int. $)\":\"34.438\",\"PPP (billion Int. $).1\":\"Lao P.D.R.\",\"PPP (billion Int. $).2\":\"112\"},{\"Rank\":\"24\",\"State\":\"Chandigarh\",\"Nominal (billion $)\":\"5.690\",\"Nominal (billion $).1\":\"Suriname\",\"Nominal (billion $).2\":\"147\",\"PPP (billion Int. $)\":\"20.478\",\"PPP (billion Int. $).1\":\"Benin\",\"PPP (billion Int. $).2\":\"135\"},{\"Rank\":\"25\",\"State\":\"Tripura\",\"Nominal (billion $)\":\"5.247\",\"Nominal (billion $).1\":\"Suriname\",\"Nominal (billion $).2\":\"148\",\"PPP (billion Int. $)\":\"18.882\",\"PPP (billion Int. $).1\":\"Rwanda\",\"PPP (billion Int. $).2\":\"137\"},{\"Rank\":\"26\",\"State\":\"Meghalaya\",\"Nominal (billion $)\":\"4.290\",\"Nominal (billion $).1\":\"Malawi\",\"Nominal (billion $).2\":\"154\",\"PPP (billion Int. $)\":\"15.439\",\"PPP (billion Int. $).1\":\"Mauritania\",\"PPP (billion Int. $).2\":\"144\"},{\"Rank\":\"27\",\"State\":\"Puducherry\",\"Nominal (billion $)\":\"4.125\",\"Nominal (billion $).1\":\"Fiji\",\"Nominal (billion $).2\":\"156\",\"PPP (billion Int. $)\":\"14.844\",\"PPP (billion Int. $).1\":\"Guinea\",\"PPP (billion Int. $).2\":\"145\"},{\"Rank\":\"28\",\"State\":\"Nagaland\",\"Nominal (billion $)\":\"3.473\",\"Nominal (billion $).1\":\"Swaziland\",\"Nominal (billion $).2\":\"158\",\"PPP (billion Int. $)\":\"12.500\",\"PPP (billion Int. $).1\":\"Sierra Leone\",\"PPP (billion Int. $).2\":\"149\"},{\"Rank\":\"29\",\"State\":\"Manipur\",\"Nominal (billion $)\":\"2.803\",\"Nominal (billion $).1\":\"Maldives\",\"Nominal (billion $).2\":\"161\",\"PPP (billion Int. $)\":\"10.088\",\"PPP (billion Int. $).1\":\"Togo\",\"PPP (billion Int. $).2\":\"150\"},{\"Rank\":\"30\",\"State\":\"Arunachal Pradesh\",\"Nominal (billion $)\":\"2.651\",\"Nominal (billion $).1\":\"Maldives\",\"Nominal (billion $).2\":\"161\",\"PPP (billion Int. $)\":\"9.540\",\"PPP (billion Int. $).1\":\"Montenegro\",\"PPP (billion Int. $).2\":\"150\"},{\"Rank\":\"31\",\"State\":\"Sikkim\",\"Nominal (billion $)\":\"2.422\",\"Nominal (billion $).1\":\"Lesotho\",\"Nominal (billion $).2\":\"161\",\"PPP (billion Int. $)\":\"8.717\",\"PPP (billion Int. $).1\":\"Swaziland\",\"PPP (billion Int. $).2\":\"153\"},{\"Rank\":\"32\",\"State\":\"Mizoram\",\"Nominal (billion $)\":\"2.015\",\"Nominal (billion $).1\":\"Liberia\",\"Nominal (billion $).2\":\"164\",\"PPP (billion Int. $)\":\"7.252\",\"PPP (billion Int. $).1\":\"Fiji\",\"PPP (billion Int. $).2\":\"157\"},{\"Rank\":\"33\",\"State\":\"A. & N. Islands\",\"Nominal (billion $)\":\"1.204\",\"Nominal (billion $).1\":\"Antigua and Barbuda\",\"Nominal (billion $).2\":\"172\",\"PPP (billion Int. $)\":\"4.331\",\"PPP (billion Int. $).1\":\"Barbados\",\"PPP (billion Int. $).2\":\"163\"},{\"Rank\":null,\"State\":\"India\",\"Nominal (billion $)\":\"2049.501\",\"Nominal (billion $).1\":null,\"Nominal (billion $).2\":\"9\",\"PPP (billion Int. $)\":\"7375.898\",\"PPP (billion Int. $).1\":null,\"PPP (billion Int. $).2\":\"3\"}]\n"
     ]
    }
   ],
   "source": [
    "## JSON format\n",
    "calls_df, = pd.read_html(\"https://statisticstimes.com/economy/comparing-indian-states-and-countries-by-gdp.php\", header=0)\n",
    "\n",
    "print(calls_df.to_json(orient=\"records\", date_format=\"iso\"))\n"
   ]
  },
  {
   "cell_type": "markdown",
   "metadata": {},
   "source": [
    "## You can even save the data right to a CSV or XLS file:"
   ]
  },
  {
   "cell_type": "code",
   "execution_count": 6,
   "metadata": {},
   "outputs": [],
   "source": [
    "calls_df, = pd.read_html(\"https://statisticstimes.com/economy/comparing-indian-states-and-countries-by-gdp.php\", header=0)\n",
    "\n",
    "calls_df.to_csv(\"GDP_Indian_States.csv\", index=False)"
   ]
  },
  {
   "cell_type": "code",
   "execution_count": null,
   "metadata": {},
   "outputs": [],
   "source": []
  },
  {
   "cell_type": "code",
   "execution_count": null,
   "metadata": {},
   "outputs": [],
   "source": []
  }
 ],
 "metadata": {
  "kernelspec": {
   "display_name": "Python 3",
   "language": "python",
   "name": "python3"
  },
  "language_info": {
   "codemirror_mode": {
    "name": "ipython",
    "version": 3
   },
   "file_extension": ".py",
   "mimetype": "text/x-python",
   "name": "python",
   "nbconvert_exporter": "python",
   "pygments_lexer": "ipython3",
   "version": "3.7.3"
  }
 },
 "nbformat": 4,
 "nbformat_minor": 2
}
